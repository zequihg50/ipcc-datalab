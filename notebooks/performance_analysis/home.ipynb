{
 "cells": [
  {
   "cell_type": "code",
   "execution_count": 1,
   "id": "493fded3-ead5-4c89-ae12-a26415b8f7c1",
   "metadata": {},
   "outputs": [],
   "source": [
    "import numpy as np\n",
    "import pandas as pd\n",
    "import matplotlib.pyplot as plt\n",
    "\n",
    "import xarray\n",
    "import dask\n",
    "\n",
    "import psutil\n",
    "import time"
   ]
  },
  {
   "cell_type": "markdown",
   "id": "66a0adba-8468-4890-a1d5-9825b8623054",
   "metadata": {},
   "source": [
    "# Performace analysis\n",
    "\n",
    "This notebook compares the performance of remote data access versus next to data data access."
   ]
  },
  {
   "cell_type": "code",
   "execution_count": 2,
   "id": "304cb06e-00ba-4a6a-a560-16e75fee9dd9",
   "metadata": {},
   "outputs": [
    {
     "data": {
      "text/plain": [
       "'https://hub.climate4r.ifca.es/thredds/dodsC/ipcc/ar6/atlas/ia-monthly/CMIP6/ssp585/t_CMIP6_ssp585_mon_201501-210012.nc'"
      ]
     },
     "execution_count": 2,
     "metadata": {},
     "output_type": "execute_result"
    }
   ],
   "source": [
    "df = pd.read_csv(\"../../inventory.csv\")\n",
    "subset = df.query('type == \"opendap\" & variable == \"t\" & project == \"CMIP6\" & frequency == \"mon\" & experiment == \"ssp585\"')\n",
    "location = subset[\"location\"].iloc[0]\n",
    "location"
   ]
  },
  {
   "cell_type": "markdown",
   "id": "895e23e7-d158-42d7-8168-4588935a091f",
   "metadata": {},
   "source": [
    "## Measurements\n",
    "\n",
    "First we define the parameters of the performance experiment. We test different number of workers and we perform several runs of each number of workers."
   ]
  },
  {
   "cell_type": "code",
   "execution_count": 3,
   "id": "e18c32c7-a42a-411d-87a8-efcc8e1db935",
   "metadata": {},
   "outputs": [],
   "source": [
    "nworkers = [8, 4, 2, 1]\n",
    "runs = 5\n",
    "results = []\n",
    "\n",
    "def measure(op, name, nworkers, run):\n",
    "    start_net = psutil.net_io_counters()\n",
    "    start_time = time.time()\n",
    "\n",
    "    op.compute(num_workers=nworkers, scheduler=\"processes\")\n",
    "\n",
    "    end_time = time.time()\n",
    "    end_net = psutil.net_io_counters()\n",
    "\n",
    "    result = {\n",
    "        \"name\": name,\n",
    "        \"run\": run,\n",
    "        \"time\": end_time-start_time,\n",
    "        \"bytes_recv\": end_net.bytes_recv-start_net.bytes_recv,\n",
    "        \"bytes_sent\": end_net.bytes_sent-start_net.bytes_sent,\n",
    "        \"packets_recv\": end_net.packets_recv-start_net.packets_recv,\n",
    "        \"packets_sent\": end_net.packets_sent-start_net.packets_sent,\n",
    "        \"errin\": end_net.errin-start_net.errin,\n",
    "        \"errout\": end_net.errout-start_net.errout,\n",
    "        \"dropin\": end_net.dropin-start_net.dropin,\n",
    "        \"dropout\": end_net.dropout-start_net.dropout,\n",
    "        \"workers\": nworkers\n",
    "    }\n",
    "\n",
    "    return result"
   ]
  },
  {
   "cell_type": "markdown",
   "id": "a636636a-279b-4020-9b5f-d3208e65be96",
   "metadata": {},
   "source": [
    "### OPeNDAP without compression (hub)"
   ]
  },
  {
   "cell_type": "code",
   "execution_count": 4,
   "id": "38a64ec2-c7cf-4e7a-8645-7d5922c8bafe",
   "metadata": {},
   "outputs": [],
   "source": [
    "!sed -i 's|DEFLATE=1|DEFLATE=0|' ~/.dodsrc"
   ]
  },
  {
   "cell_type": "code",
   "execution_count": 5,
   "id": "30bf2f7f-b79f-48ac-a8ff-94aa7598afae",
   "metadata": {},
   "outputs": [],
   "source": [
    "for w in nworkers:\n",
    "    for r in range(runs):\n",
    "        ds = xarray.open_dataset(location).chunk(member=-1, time=1)\n",
    "        op = ds[\"t\"].mean([\"lat\", \"lon\", \"member\"])\n",
    "        results.append(measure(op, \"opendap-hub-uncompressed\", w, r))"
   ]
  },
  {
   "cell_type": "markdown",
   "id": "0d2714c8-5afe-48b8-afa2-291bcc605ac1",
   "metadata": {},
   "source": [
    "### OPeNDAP with compression (hub)"
   ]
  },
  {
   "cell_type": "code",
   "execution_count": 6,
   "id": "ab9a4b09-600d-4bee-88a3-3f3fc6d506a1",
   "metadata": {},
   "outputs": [],
   "source": [
    "!sed -i 's|DEFLATE=0|DEFLATE=1|' ~/.dodsrc"
   ]
  },
  {
   "cell_type": "code",
   "execution_count": 7,
   "id": "269c95b0-2194-42fe-a534-f436c2d3899d",
   "metadata": {},
   "outputs": [],
   "source": [
    "for w in nworkers:\n",
    "    for r in range(runs):\n",
    "        ds = xarray.open_dataset(location).chunk(member=-1, time=1)\n",
    "        op = ds[\"t\"].mean([\"lat\", \"lon\", \"member\"])\n",
    "        results.append(measure(op, \"opendap-hub-compressed\", w, r))"
   ]
  },
  {
   "cell_type": "code",
   "execution_count": 8,
   "id": "b50220d5-b697-40f4-b319-f9d7c1b56bc0",
   "metadata": {},
   "outputs": [],
   "source": [
    "pd.DataFrame.from_records(results).to_csv(\"home.csv\", index=False)"
   ]
  },
  {
   "cell_type": "code",
   "execution_count": null,
   "id": "1d2f6d7e-66b0-497d-bf74-92cd316f1d33",
   "metadata": {},
   "outputs": [],
   "source": []
  }
 ],
 "metadata": {
  "kernelspec": {
   "display_name": "Python 3 (ipykernel)",
   "language": "python",
   "name": "python3"
  },
  "language_info": {
   "codemirror_mode": {
    "name": "ipython",
    "version": 3
   },
   "file_extension": ".py",
   "mimetype": "text/x-python",
   "name": "python",
   "nbconvert_exporter": "python",
   "pygments_lexer": "ipython3",
   "version": "3.11.5"
  }
 },
 "nbformat": 4,
 "nbformat_minor": 5
}
