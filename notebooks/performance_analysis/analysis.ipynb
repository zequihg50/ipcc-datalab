{
 "cells": [
  {
   "cell_type": "code",
   "execution_count": 2,
   "id": "9fcfec25-47f4-4ca3-a35f-291af479ab63",
   "metadata": {},
   "outputs": [],
   "source": [
    "import pandas as pd\n",
    "import matplotlib.pyplot as plt"
   ]
  },
  {
   "cell_type": "code",
   "execution_count": 11,
   "id": "597dfc3d-f66d-4437-896c-d827719cdcea",
   "metadata": {},
   "outputs": [
    {
     "data": {
      "text/html": [
       "<div>\n",
       "<style scoped>\n",
       "    .dataframe tbody tr th:only-of-type {\n",
       "        vertical-align: middle;\n",
       "    }\n",
       "\n",
       "    .dataframe tbody tr th {\n",
       "        vertical-align: top;\n",
       "    }\n",
       "\n",
       "    .dataframe thead th {\n",
       "        text-align: right;\n",
       "    }\n",
       "</style>\n",
       "<table border=\"1\" class=\"dataframe\">\n",
       "  <thead>\n",
       "    <tr style=\"text-align: right;\">\n",
       "      <th></th>\n",
       "      <th>name</th>\n",
       "      <th>run</th>\n",
       "      <th>time</th>\n",
       "      <th>bytes_recv</th>\n",
       "      <th>bytes_sent</th>\n",
       "      <th>packets_recv</th>\n",
       "      <th>packets_sent</th>\n",
       "      <th>errin</th>\n",
       "      <th>errout</th>\n",
       "      <th>dropin</th>\n",
       "      <th>dropout</th>\n",
       "      <th>workers</th>\n",
       "    </tr>\n",
       "  </thead>\n",
       "  <tbody>\n",
       "    <tr>\n",
       "      <th>0</th>\n",
       "      <td>netCDF</td>\n",
       "      <td>0</td>\n",
       "      <td>87.556871</td>\n",
       "      <td>118026</td>\n",
       "      <td>373764</td>\n",
       "      <td>446</td>\n",
       "      <td>460</td>\n",
       "      <td>0</td>\n",
       "      <td>0</td>\n",
       "      <td>0</td>\n",
       "      <td>0</td>\n",
       "      <td>1</td>\n",
       "    </tr>\n",
       "    <tr>\n",
       "      <th>1</th>\n",
       "      <td>netCDF</td>\n",
       "      <td>1</td>\n",
       "      <td>87.525362</td>\n",
       "      <td>64173</td>\n",
       "      <td>253501</td>\n",
       "      <td>345</td>\n",
       "      <td>356</td>\n",
       "      <td>0</td>\n",
       "      <td>0</td>\n",
       "      <td>0</td>\n",
       "      <td>0</td>\n",
       "      <td>1</td>\n",
       "    </tr>\n",
       "    <tr>\n",
       "      <th>2</th>\n",
       "      <td>netCDF</td>\n",
       "      <td>2</td>\n",
       "      <td>87.125905</td>\n",
       "      <td>32754</td>\n",
       "      <td>81943</td>\n",
       "      <td>224</td>\n",
       "      <td>238</td>\n",
       "      <td>0</td>\n",
       "      <td>0</td>\n",
       "      <td>0</td>\n",
       "      <td>0</td>\n",
       "      <td>1</td>\n",
       "    </tr>\n",
       "    <tr>\n",
       "      <th>3</th>\n",
       "      <td>netCDF</td>\n",
       "      <td>3</td>\n",
       "      <td>87.045820</td>\n",
       "      <td>18712</td>\n",
       "      <td>19642</td>\n",
       "      <td>175</td>\n",
       "      <td>190</td>\n",
       "      <td>0</td>\n",
       "      <td>0</td>\n",
       "      <td>0</td>\n",
       "      <td>0</td>\n",
       "      <td>1</td>\n",
       "    </tr>\n",
       "    <tr>\n",
       "      <th>4</th>\n",
       "      <td>netCDF</td>\n",
       "      <td>4</td>\n",
       "      <td>87.534261</td>\n",
       "      <td>18640</td>\n",
       "      <td>19508</td>\n",
       "      <td>174</td>\n",
       "      <td>188</td>\n",
       "      <td>0</td>\n",
       "      <td>0</td>\n",
       "      <td>0</td>\n",
       "      <td>0</td>\n",
       "      <td>1</td>\n",
       "    </tr>\n",
       "  </tbody>\n",
       "</table>\n",
       "</div>"
      ],
      "text/plain": [
       "     name  run       time  bytes_recv  bytes_sent  packets_recv  packets_sent  \\\n",
       "0  netCDF    0  87.556871      118026      373764           446           460   \n",
       "1  netCDF    1  87.525362       64173      253501           345           356   \n",
       "2  netCDF    2  87.125905       32754       81943           224           238   \n",
       "3  netCDF    3  87.045820       18712       19642           175           190   \n",
       "4  netCDF    4  87.534261       18640       19508           174           188   \n",
       "\n",
       "   errin  errout  dropin  dropout  workers  \n",
       "0      0       0       0        0        1  \n",
       "1      0       0       0        0        1  \n",
       "2      0       0       0        0        1  \n",
       "3      0       0       0        0        1  \n",
       "4      0       0       0        0        1  "
      ]
     },
     "execution_count": 11,
     "metadata": {},
     "output_type": "execute_result"
    }
   ],
   "source": [
    "df = pd.read_csv(\"hub.csv\")\n",
    "df.loc[df[\"name\"]==\"local\", \"name\"] = \"netCDF\"\n",
    "df.loc[df[\"name\"]==\"opendap-hub-compressed\", \"name\"] = \"OPeNDAP\\n(deflate=True)\"\n",
    "df.loc[df[\"name\"]==\"opendap-hub-uncompressed\", \"name\"] = \"OPeNDAP\\n(deflate=False)\"\n",
    "df.head()"
   ]
  },
  {
   "cell_type": "code",
   "execution_count": 12,
   "id": "0540b254-553f-417d-9952-fea94c51fd10",
   "metadata": {},
   "outputs": [
    {
     "data": {
      "text/plain": [
       "<Axes: >"
      ]
     },
     "execution_count": 12,
     "metadata": {},
     "output_type": "execute_result"
    },
    {
     "data": {
      "image/png": "[encoded data removed]",
      "text/plain": [
       "<Figure size 640x480 with 1 Axes>"
      ]
     },
     "metadata": {},
     "output_type": "display_data"
    }
   ],
   "source": [
    "df[[\"name\", \"workers\", \"time\"]].groupby([\"name\", \"workers\"]).mean().unstack().plot.bar(rot=True, xlabel=\"\")"
   ]
  },
  {
   "cell_type": "code",
   "execution_count": 15,
   "id": "c1e4be23-ba59-4c92-b422-5220d2f74ef2",
   "metadata": {},
   "outputs": [
    {
     "data": {
      "text/html": [
       "<div>\n",
       "<style scoped>\n",
       "    .dataframe tbody tr th:only-of-type {\n",
       "        vertical-align: middle;\n",
       "    }\n",
       "\n",
       "    .dataframe tbody tr th {\n",
       "        vertical-align: top;\n",
       "    }\n",
       "\n",
       "    .dataframe thead th {\n",
       "        text-align: right;\n",
       "    }\n",
       "</style>\n",
       "<table border=\"1\" class=\"dataframe\">\n",
       "  <thead>\n",
       "    <tr style=\"text-align: right;\">\n",
       "      <th></th>\n",
       "      <th>name</th>\n",
       "      <th>run</th>\n",
       "      <th>time</th>\n",
       "      <th>bytes_recv</th>\n",
       "      <th>bytes_sent</th>\n",
       "      <th>packets_recv</th>\n",
       "      <th>packets_sent</th>\n",
       "      <th>errin</th>\n",
       "      <th>errout</th>\n",
       "      <th>dropin</th>\n",
       "      <th>dropout</th>\n",
       "      <th>workers</th>\n",
       "    </tr>\n",
       "  </thead>\n",
       "  <tbody>\n",
       "    <tr>\n",
       "      <th>0</th>\n",
       "      <td>OPeNDAP\\n(deflate=False)</td>\n",
       "      <td>0</td>\n",
       "      <td>304.756667</td>\n",
       "      <td>9608756287</td>\n",
       "      <td>46329137</td>\n",
       "      <td>6355380</td>\n",
       "      <td>479508</td>\n",
       "      <td>0</td>\n",
       "      <td>0</td>\n",
       "      <td>0</td>\n",
       "      <td>0</td>\n",
       "      <td>8</td>\n",
       "    </tr>\n",
       "    <tr>\n",
       "      <th>1</th>\n",
       "      <td>OPeNDAP\\n(deflate=False)</td>\n",
       "      <td>1</td>\n",
       "      <td>290.380709</td>\n",
       "      <td>9608356151</td>\n",
       "      <td>47138774</td>\n",
       "      <td>6354766</td>\n",
       "      <td>490897</td>\n",
       "      <td>0</td>\n",
       "      <td>0</td>\n",
       "      <td>0</td>\n",
       "      <td>0</td>\n",
       "      <td>8</td>\n",
       "    </tr>\n",
       "    <tr>\n",
       "      <th>2</th>\n",
       "      <td>OPeNDAP\\n(deflate=False)</td>\n",
       "      <td>2</td>\n",
       "      <td>296.494386</td>\n",
       "      <td>9608377401</td>\n",
       "      <td>48342202</td>\n",
       "      <td>6354860</td>\n",
       "      <td>503319</td>\n",
       "      <td>0</td>\n",
       "      <td>0</td>\n",
       "      <td>0</td>\n",
       "      <td>0</td>\n",
       "      <td>8</td>\n",
       "    </tr>\n",
       "    <tr>\n",
       "      <th>3</th>\n",
       "      <td>OPeNDAP\\n(deflate=False)</td>\n",
       "      <td>3</td>\n",
       "      <td>306.448453</td>\n",
       "      <td>9608394071</td>\n",
       "      <td>46634864</td>\n",
       "      <td>6354745</td>\n",
       "      <td>486194</td>\n",
       "      <td>0</td>\n",
       "      <td>0</td>\n",
       "      <td>0</td>\n",
       "      <td>0</td>\n",
       "      <td>8</td>\n",
       "    </tr>\n",
       "    <tr>\n",
       "      <th>4</th>\n",
       "      <td>OPeNDAP\\n(deflate=False)</td>\n",
       "      <td>4</td>\n",
       "      <td>296.910163</td>\n",
       "      <td>9608228227</td>\n",
       "      <td>46852238</td>\n",
       "      <td>6354638</td>\n",
       "      <td>488526</td>\n",
       "      <td>0</td>\n",
       "      <td>0</td>\n",
       "      <td>0</td>\n",
       "      <td>0</td>\n",
       "      <td>8</td>\n",
       "    </tr>\n",
       "  </tbody>\n",
       "</table>\n",
       "</div>"
      ],
      "text/plain": [
       "                       name  run        time  bytes_recv  bytes_sent  \\\n",
       "0  OPeNDAP\\n(deflate=False)    0  304.756667  9608756287    46329137   \n",
       "1  OPeNDAP\\n(deflate=False)    1  290.380709  9608356151    47138774   \n",
       "2  OPeNDAP\\n(deflate=False)    2  296.494386  9608377401    48342202   \n",
       "3  OPeNDAP\\n(deflate=False)    3  306.448453  9608394071    46634864   \n",
       "4  OPeNDAP\\n(deflate=False)    4  296.910163  9608228227    46852238   \n",
       "\n",
       "   packets_recv  packets_sent  errin  errout  dropin  dropout  workers  \n",
       "0       6355380        479508      0       0       0        0        8  \n",
       "1       6354766        490897      0       0       0        0        8  \n",
       "2       6354860        503319      0       0       0        0        8  \n",
       "3       6354745        486194      0       0       0        0        8  \n",
       "4       6354638        488526      0       0       0        0        8  "
      ]
     },
     "execution_count": 15,
     "metadata": {},
     "output_type": "execute_result"
    }
   ],
   "source": [
    "df = pd.read_csv(\"home1.csv\")\n",
    "df.loc[df[\"name\"]==\"local\", \"name\"] = \"netCDF\"\n",
    "df.loc[df[\"name\"]==\"opendap-hub-compressed\", \"name\"] = \"OPeNDAP\\n(deflate=True)\"\n",
    "df.loc[df[\"name\"]==\"opendap-hub-uncompressed\", \"name\"] = \"OPeNDAP\\n(deflate=False)\"\n",
    "df.head()"
   ]
  },
  {
   "cell_type": "code",
   "execution_count": 16,
   "id": "f54948b0-e23a-4452-931d-8ef554bd3775",
   "metadata": {},
   "outputs": [
    {
     "data": {
      "text/plain": [
       "<Axes: >"
      ]
     },
     "execution_count": 16,
     "metadata": {},
     "output_type": "execute_result"
    },
    {
     "data": {
      "image/png": "[encoded data removed]",
      "text/plain": [
       "<Figure size 640x480 with 1 Axes>"
      ]
     },
     "metadata": {},
     "output_type": "display_data"
    }
   ],
   "source": [
    "df[[\"name\", \"workers\", \"time\"]].groupby([\"name\", \"workers\"]).mean().unstack().plot.bar(rot=True, xlabel=\"\")"
   ]
  },
  {
   "cell_type": "code",
   "execution_count": null,
   "id": "0c1e18ff-fe77-4b74-8807-84b552eb1d37",
   "metadata": {},
   "outputs": [],
   "source": []
  }
 ],
 "metadata": {
  "kernelspec": {
   "display_name": "Python 3 (ipykernel)",
   "language": "python",
   "name": "python3"
  },
  "language_info": {
   "codemirror_mode": {
    "name": "ipython",
    "version": 3
   },
   "file_extension": ".py",
   "mimetype": "text/x-python",
   "name": "python",
   "nbconvert_exporter": "python",
   "pygments_lexer": "ipython3",
   "version": "3.11.5"
  }
 },
 "nbformat": 4,
 "nbformat_minor": 5
}
